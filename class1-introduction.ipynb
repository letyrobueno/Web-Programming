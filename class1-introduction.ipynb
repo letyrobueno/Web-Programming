{
 "cells": [
  {
   "cell_type": "markdown",
   "metadata": {},
   "source": [
    "# Web Programming in Java\n",
    "\n",
    "## Java EE\n",
    "\n",
    "* A Java application is platform-independent, since it is portable;\n",
    "* Applications can have very complex business rules;\n",
    "* Some software infrastructure requirements:\n",
    "    * database persistence;\n",
    "    * remote access;\n",
    "    * threads management;\n",
    "    * management of HTTP connections, etc.\n",
    "* Sun created specifications to reuse infrastructure;\n",
    "* **Java EE (Java Enterprise Edition)**: detailed specifications of how a software can implement each of these services. Until the version 1.4 the name used was J2EE;\n",
    "* **JSP and Servlets**: essential specifications for a developer Java for Web;\n",
    "\n",
    "<img src=\"images/figure1.png\">\n",
    "\n",
    "<img src=\"images/figure2.png\">\n",
    "\n",
    "\n",
    "## Java EE\n",
    "\n",
    "We are going to create a dynamic Java Web application:\n",
    "* Download Apache Tomcat available at http://tomcat.apache.org/ Unzip the file;\n",
    "* Download Eclipse Java EE Developers available at https://www.eclipse.org/downloads/packages/. When installing it, search for \"Java EE\".\n",
    "* Configure Tomcat for Eclipse: \n",
    "    1. `Ctrl + 3`, then search for Servers;\n",
    "    2. Right click over the tab Servers, select `New`, then `Server`;\n",
    "    3. Select `Apache Tomcat 6.0` and choose the folder for Tomcat;\n",
    "    4. Start the server;\n",
    "* Create a new application in Eclipse, by choosing `New`, then `Project`, next `Dynamic Web Project`;\n",
    "* Right click over the tab `Servers`, select `Add` and add the project to the Tomcat server;\n",
    "* To visualize the application, you can choose between:\n",
    "    1. Open the browser in http://localhost:8080/nameOfProject\n",
    "    2. Right click over the project (it has to be a \"Dynamic Web project\"), choose `Run As` and then `Run On Server`. Select the server `Tomcat v6.0 Server at localhost` and click `Finish`.\n",
    "**Tip**: don’t forget to restart the server so that the modifications are updated in the browser."
   ]
  }
 ],
 "metadata": {
  "kernelspec": {
   "display_name": "SciJava",
   "language": "groovy",
   "name": "scijava"
  },
  "language_info": {
   "codemirror_mode": "groovy",
   "file_extension": "",
   "mimetype": "",
   "name": "scijava",
   "nbconverter_exporter": "",
   "pygments_lexer": "groovy",
   "version": "1.0"
  }
 },
 "nbformat": 4,
 "nbformat_minor": 2
}
