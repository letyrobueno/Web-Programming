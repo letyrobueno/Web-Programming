{
 "cells": [
  {
   "attachments": {},
   "cell_type": "markdown",
   "metadata": {},
   "source": [
    "# Web Programming in Java\n",
    "\n",
    "## Shortcuts and Tips for Eclipse \n",
    "\n",
    "* to change tab: `Ctrl + Page up` or `Ctrl + Page down`; \n",
    "* to change the code font: `Windows` $\\to$ `Preferences` $\\to$ `General` $\\to$ `Appearance` $\\to$ `Colors and Fonts`; \n",
    "* to indent the code: `Ctrl + Shift + f` (configurations defined in `Windows` $\\to$ `Preferences` $\\to$ `Java` $\\to$ `Code Style` $\\to$ `Formatter`);\n",
    "* to complete code: `Ctrl + Spacebar`. For example, `Syso` plus this shortcut results in `System.out.println();`, and `main` plus this shortcut gives all declaration of the `main()` method; \n",
    "* to see where a method is used: click over the method's name and type `Ctrl + Alt + h`\n",
    "* to see Eclipse suggestions for the detected errors: with the cursor in the error, type `Ctrl + 1`\n",
    "* to see a list of shortcuts: `Ctrl + Shift + l`\n",
    "* to execute: `Ctrl + F11`\n",
    "* quick access to many functions that can be found by search: `Ctrl + 3`\n",
    "* to go to the next error: `Ctrl + .`\n",
    "* to change the context name of a Web project: `Project` $\\to$ `Properties` $\\to$ `Web Project Settings` $\\to$ `Context Root`;\n",
    "* To generate a jar file: right click over the project, select `Export` $\\to$ `Java`. Choose `JAR file` or `Runnable JAR file`. Difference between them:\n",
    "    * `Runnable JAR File`: it contains a class with a method `main()` which can be used to start the application;\n",
    "    * `JAR File`: it contains only libraries with classes that can be added to the classpath of other projects to reuse the code."
   ]
  }
 ],
 "metadata": {
  "kernelspec": {
   "display_name": "SciJava",
   "language": "groovy",
   "name": "scijava"
  },
  "language_info": {
   "codemirror_mode": "groovy",
   "file_extension": "",
   "mimetype": "",
   "name": "scijava",
   "nbconverter_exporter": "",
   "pygments_lexer": "groovy",
   "version": "1.0"
  }
 },
 "nbformat": 4,
 "nbformat_minor": 2
}
