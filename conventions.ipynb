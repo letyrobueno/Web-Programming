{
 "cells": [
  {
   "attachments": {},
   "cell_type": "markdown",
   "metadata": {},
   "source": [
    "# Web Programming in Java\n",
    "\n",
    "## Conventions\n",
    "\n",
    "Source: https://www.javatpoint.com/java-naming-conventions\n",
    "\n",
    "* names for variables: \n",
    "\t* first letter is lowercase; \n",
    "\t* if more than one word, the others start with a uppercase first letter. **Examples**: `ageOfClient`, `nameOfClient`, `todayIsSunny`, etc. \n",
    "\n",
    "* names for classes: \n",
    "\t* first letter is uppercase; \n",
    "\t* if more than one word, the others start with a uppercase first letter. **Examples**: `Person`, `IncomeTax`, `TestAge`, `Client`, `TestAccess`, etc;\n",
    "\t* the name of the class must also be the name of the file. \n",
    "\n",
    "* names for methods: \n",
    "\t* first letter is lowercase; \n",
    "\t* if more than one word, the others start with a uppercase first letter;\n",
    "\t* it should be a verb in the imperative tense, such as `calculateIncomeTax()`, `testAge()`, `testAccess()`, etc. \n",
    "\n",
    "* names for packages: \n",
    "\t* first letter is lowercase; \n",
    "\t* if more than one word, the others start with a uppercase first letter. **Examples**: `cryptography`, `users`, `databaseConnection`, etc;\n",
    "\t* name of the package must be the same for the folder; \n",
    "\n",
    "* names for constants: \n",
    "\t* all letters are uppercase; \n",
    "\t* to separate words, use underline. **Examples**: `SIZE`, `PI`, `AMOUNT`, `STOP_EXECUTION`, etc."
   ]
  }
 ],
 "metadata": {
  "kernelspec": {
   "display_name": "SciJava",
   "language": "groovy",
   "name": "scijava"
  },
  "language_info": {
   "codemirror_mode": "groovy",
   "file_extension": "",
   "mimetype": "",
   "name": "scijava",
   "nbconverter_exporter": "",
   "pygments_lexer": "groovy",
   "version": "1.0"
  }
 },
 "nbformat": 4,
 "nbformat_minor": 2
}
